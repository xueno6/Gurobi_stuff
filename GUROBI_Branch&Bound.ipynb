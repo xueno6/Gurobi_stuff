{
 "cells": [
  {
   "cell_type": "markdown",
   "id": "ebacf7a3",
   "metadata": {},
   "source": [
    "We use the same problem as our example\n",
    "\n",
    "$$ \\max  2x+3y$$\n",
    "$$s.t.$$\n",
    "$$2x+y<=10  $$\n",
    "$$3x+6y<=40$$\n",
    "$$ x,y \\in Z$$\n",
    "\n",
    "In this file, we try to implement a branch and bound procedure which only use gurobi as a LP solver."
   ]
  },
  {
   "cell_type": "markdown",
   "id": "6f133fa7",
   "metadata": {},
   "source": [
    "The MIP solver will terminate (with an optimal result) when the gap between the lower and upper objective bound is less than MIPGap times the absolute value of the incumbent objective value. More precisely, if $z_{P}$ is the primal objective bound (i.e., the incumbent objective value, which is the upper bound for minimization problems), and $z_{D}$ is the dual objective bound (i.e., the lower bound for minimization problems), then the MIP gap is defined as\n",
    "\n",
    "$$g a p=\\left|z_{P}-z_{D}\\right| /\\left|z_{P}\\right|$$\n",
    "\n",
    "Note that if $z_{P}=z_{D}=0$, then the gap is defined to be zero. If $z_{P}=0$ and $z_{D} \\neq 0$, the gap is defined to be infinity.\n",
    "For most models, $z_{P}$ and $z_{D}$ will have the same sign throughout the optimization process, and then the gap is monotonically decreasing. But if $z_{P}$ and $z_{D}$ have opposite signs, the relative gap may increase after finding a new incumbent solution, even though the absolute gap $\\left|z_{P}-z_{D}\\right|$ has decreased."
   ]
  },
  {
   "cell_type": "code",
   "execution_count": null,
   "id": "9bff64db",
   "metadata": {},
   "outputs": [],
   "source": [
    "# -*- coding: utf-8 -*-\n",
    "\"\"\"\n",
    "Spyder Editor\n",
    "\n",
    "This is a temporary script file.\n",
    "\"\"\"\n",
    "\n",
    "\n",
    "import gurobipy as gp\n",
    "from gurobipy import GRB\n",
    "import math\n",
    "import copy\n",
    "\n",
    "n=gp.Model()\n",
    "x={}\n",
    "x[0] = n.addVar(lb=0, vtype=GRB.CONTINUOUS, name=\"x1\")\n",
    "x[1] = n.addVar(lb=0, vtype=GRB.CONTINUOUS , name =\"x2\")\n",
    "n.setObjective(2*x[0]+3*x[1], GRB.MAXIMIZE) \n",
    "n.addConstr(2*x[0]+x[1]<=10)\n",
    "n.addConstr(3*x[0]+6*x[1]<=40)\n",
    "n.setParam('OutputFlag', 0)\n",
    "print('#' * 70)"
   ]
  },
  {
   "cell_type": "code",
   "execution_count": 3,
   "id": "34289234",
   "metadata": {},
   "outputs": [
    {
     "name": "stdout",
     "output_type": "stream",
     "text": [
      "Using license file c:\\gurobi911\\gurobi.lic\n",
      "######################################################################\n",
      "LP_relaxation_node: [2.2222222222222223, 5.555555555555555]\n",
      "LP_objective: 21.111111111111107\n",
      "Lower_bound: 0\n",
      "######################################################################\n",
      "LP_relaxation_node: [2.0, 5.666666666666667]\n",
      "LP_objective: 21.0\n",
      "Lower_bound: 0\n",
      "######################################################################\n",
      "LP_relaxation_node: [2.0, 5.0]\n",
      "LP_objective: 19.0\n",
      "Lower_bound: 19.0\n",
      "######################################################################\n",
      "LP_relaxation_node: [1.3333333333333333, 6.0]\n",
      "LP_objective: 20.666666666666668\n",
      "Lower_bound: 19.0\n",
      "######################################################################\n",
      "LP_relaxation_node: [1.0, 6.166666666666667]\n",
      "LP_objective: 20.5\n",
      "Lower_bound: 19.0\n",
      "######################################################################\n",
      "LP_relaxation_node: [1.0, 6.0]\n",
      "LP_objective: 20.0\n",
      "Lower_bound: 20.0\n",
      "######################################################################\n",
      "prune node [3.0, 4.0]\n",
      "(20.0, [1.0, 6.0])\n"
     ]
    }
   ],
   "source": [
    "global UB\n",
    "\n",
    "UB=0\n",
    "\n",
    "def integer_Branch_and_Bound(n):\n",
    "    global UB\n",
    "    n.optimize()\n",
    "    try:\n",
    "        LP_Obj=n.ObjVal\n",
    "        LP_relaxation = [n.getVars()[i].x for i in range(len(n.getVars()))]\n",
    "        \n",
    "        if LP_Obj<UB:\n",
    "            print(\"prune node %s\" %LP_relaxation)\n",
    "            return 0,[0,0]\n",
    "        elif not any(divmod(n.getVars()[i].x,1)[1] for i in range(len(n.getVars()))):\n",
    "            UB=LP_Obj if LP_Obj>UB else UB\n",
    "            print('LP_relaxation_node: %s' %LP_relaxation )\n",
    "            print('LP_objective: %s' %LP_Obj)\n",
    "            print('Lower_bound: %s' %UB)\n",
    "            print('#' * 70)\n",
    "            return LP_Obj, LP_relaxation\n",
    "        else:\n",
    "            print('LP_relaxation_node: %s' %LP_relaxation )\n",
    "            print('LP_objective: %s' %LP_Obj)\n",
    "            print('Lower_bound: %s' %UB)\n",
    "            print('#' * 70)\n",
    "            ind = [i for i, x in enumerate(LP_relaxation) if x-math.floor(x)>1e-5 ][0]\n",
    "            n_left=n.copy()\n",
    "            n_right=n.copy()\n",
    "            del n\n",
    "            n_left.addConstr(n_left.getVars()[ind]<=math.floor(LP_relaxation[ind]))\n",
    "            n_right.addConstr(n_right.getVars()[ind]>=math.ceil(LP_relaxation[ind]))\n",
    "            LP_Obj_left,LP_relaxation_left=integer_Branch_and_Bound(n_left)\n",
    "            LP_Obj_right,LP_relaxtion_right=integer_Branch_and_Bound(n_right)\n",
    "            if LP_Obj_left>LP_Obj_right:\n",
    "                return LP_Obj_left, LP_relaxation_left\n",
    "            else:\n",
    "                return LP_Obj_right, LP_relaxtion_right\n",
    "    except:\n",
    "        return 0,[0,0]\n",
    "    \n",
    "        \n",
    "print(integer_Branch_and_Bound(n))"
   ]
  },
  {
   "cell_type": "code",
   "execution_count": null,
   "id": "f2bbe455",
   "metadata": {},
   "outputs": [],
   "source": []
  }
 ],
 "metadata": {
  "kernelspec": {
   "display_name": "Python 3.8 (XPython)",
   "language": "python",
   "name": "xpython"
  },
  "language_info": {
   "file_extension": ".py",
   "mimetype": "text/x-python",
   "name": "python",
   "version": "3.8.10"
  }
 },
 "nbformat": 4,
 "nbformat_minor": 5
}
