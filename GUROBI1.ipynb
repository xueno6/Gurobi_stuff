{
 "cells": [
  {
   "cell_type": "code",
   "execution_count": 1,
   "metadata": {},
   "outputs": [
    {
     "name": "stdout",
     "output_type": "stream",
     "text": [
      "Using license file c:\\gurobi911\\gurobi.lic\n"
     ]
    }
   ],
   "source": [
    "###############################################\n",
    "# The most common way to initialize a model   #\n",
    "###############################################\n",
    "\n",
    "import gurobipy as gp\n",
    "from gurobipy import GRB\n",
    "\n",
    "# Create a new model\n",
    "m = gp.Model (\" mip1 \")\n",
    "# Create variables\n",
    "# For multiple vars use addVars\n",
    "# For multiple constraints use addConstrs\n",
    "x = m.addVar ( vtype =GRB.BINARY , name =\"x\")\n",
    "y = m.addVar ( vtype =GRB.BINARY , name =\"y\")\n",
    "z = m.addVar ( vtype =GRB.BINARY , name =\"z\")\n",
    "# Add constraint : x + 2 y + 3 z <= 4\n",
    "m.addConstr (x + 2 * y + 3 * z <= 4, \"c0\")\n",
    "# Add constraint : x + y >= 1\n",
    "m.addConstr (x + y >= 1, \"c1\")\n",
    "\n",
    "# Set objective\n",
    "m.setObjective (x + y + 2 * z, GRB.MAXIMIZE )\n",
    "# Optimize model"
   ]
  },
  {
   "cell_type": "code",
   "execution_count": 2,
   "metadata": {},
   "outputs": [
    {
     "name": "stdout",
     "output_type": "stream",
     "text": [
      "Gurobi Optimizer version 9.1.1 build v9.1.1rc0 (win64)\n",
      "Thread count: 6 physical cores, 12 logical processors, using up to 12 threads\n",
      "Optimize a model with 2 rows, 3 columns and 5 nonzeros\n",
      "Model fingerprint: 0xf43f5bdf\n",
      "Variable types: 0 continuous, 3 integer (3 binary)\n",
      "Coefficient statistics:\n",
      "  Matrix range     [1e+00, 3e+00]\n",
      "  Objective range  [1e+00, 2e+00]\n",
      "  Bounds range     [1e+00, 1e+00]\n",
      "  RHS range        [1e+00, 4e+00]\n",
      "Found heuristic solution: objective 2.0000000\n",
      "Presolve removed 2 rows and 3 columns\n",
      "Presolve time: 0.00s\n",
      "Presolve: All rows and columns removed\n",
      "\n",
      "Explored 0 nodes (0 simplex iterations) in 0.01 seconds\n",
      "Thread count was 1 (of 12 available processors)\n",
      "\n",
      "Solution count 2: 3 \n",
      "\n",
      "Optimal solution found (tolerance 1.00e-04)\n",
      "Best objective 3.000000000000e+00, best bound 3.000000000000e+00, gap 0.0000%\n"
     ]
    }
   ],
   "source": [
    "m.optimize()"
   ]
  },
  {
   "cell_type": "code",
   "execution_count": 3,
   "metadata": {},
   "outputs": [
    {
     "name": "stdout",
     "output_type": "stream",
     "text": [
      "1.0\n"
     ]
    }
   ],
   "source": [
    "#See the solution of a certain var\n",
    "for var in m.getVars():\n",
    "    # name of the var\n",
    "    if 'x' == str(var.VarName[0]):\n",
    "        print(var.x)"
   ]
  },
  {
   "cell_type": "code",
   "execution_count": 5,
   "metadata": {},
   "outputs": [
    {
     "name": "stdout",
     "output_type": "stream",
     "text": [
      "Gurobi Optimizer version 9.1.1 build v9.1.1rc0 (win64)\n",
      "Thread count: 6 physical cores, 12 logical processors, using up to 12 threads\n",
      "Optimize a model with 2 rows, 3 columns and 5 nonzeros\n",
      "Model fingerprint: 0x6d8be88c\n",
      "Variable types: 0 continuous, 3 integer (3 binary)\n",
      "Coefficient statistics:\n",
      "  Matrix range     [1e+00, 3e+00]\n",
      "  Objective range  [1e+00, 2e+00]\n",
      "  Bounds range     [1e+00, 1e+00]\n",
      "  RHS range        [1e+00, 4e+00]\n",
      "Found heuristic solution: objective 2.0000000\n",
      "Presolve removed 2 rows and 3 columns\n",
      "Presolve time: 0.00s\n",
      "Presolve: All rows and columns removed\n",
      "\n",
      "Explored 0 nodes (0 simplex iterations) in 0.00 seconds\n",
      "Thread count was 1 (of 12 available processors)\n",
      "\n",
      "Solution count 2: 3 \n",
      "\n",
      "Optimal solution found (tolerance 1.00e-04)\n",
      "Best objective 3.000000000000e+00, best bound 3.000000000000e+00, gap 0.0000%\n",
      "[1. 0. 1.]\n"
     ]
    }
   ],
   "source": [
    "###########################################\n",
    "# initialize a model using sparse matrix  #\n",
    "###########################################\n",
    "\n",
    "import gurobipy as gp\n",
    "from gurobipy import GRB\n",
    "import numpy as np\n",
    "import scipy.sparse as sp\n",
    "\n",
    "m=gp.Model(\"matrix1\")\n",
    "x = m.addMVar ( shape =3, vtype =GRB.BINARY , name =\"x\")\n",
    "obj = np. array ([1.0 , 1.0 , 2.0])\n",
    "m.setObjective (obj @ x, GRB. MAXIMIZE )\n",
    "# Build ( sparse ) constraint matrix\n",
    "# (row,col) --> val\n",
    "val = np. array ([1.0 , 2.0 , 3.0 , -1.0 , -1.0])\n",
    "row = np. array ([0 ,    0,    0,    1,     1])\n",
    "col = np. array ([0 ,    1,    2,    0,     1])\n",
    "A = sp.csr_matrix (( val , (row , col )), shape =(2 , 3)) #row and col means the index of the values\n",
    "rhs = np. array ([4.0 , -1.0])\n",
    "# Add constraints\n",
    "m.addConstr (A @ x <= rhs , name =\"c\")\n",
    "# Optimize model\n",
    "m.optimize ()\n",
    "print (x.X)\n",
    "\n"
   ]
  },
  {
   "cell_type": "code",
   "execution_count": 6,
   "metadata": {},
   "outputs": [
    {
     "data": {
      "text/plain": [
       "[<gurobi.Var x[0] (value 1.0)>,\n",
       " <gurobi.Var x[1] (value 0.0)>,\n",
       " <gurobi.Var x[2] (value 1.0)>]"
      ]
     },
     "execution_count": 6,
     "metadata": {},
     "output_type": "execute_result"
    }
   ],
   "source": [
    "m.getVars()"
   ]
  },
  {
   "cell_type": "code",
   "execution_count": 7,
   "metadata": {},
   "outputs": [
    {
     "name": "stdout",
     "output_type": "stream",
     "text": [
      "<gurobi.tuplelist (2 tuples, 2 values each):\n",
      " ( A , B )\n",
      " ( A , C )\n",
      ">\n"
     ]
    }
   ],
   "source": [
    "#######################################################\n",
    "#  An Example of the use of tuplelist and select function #\n",
    "#######################################################\n",
    "\n",
    "from gurobipy import tuplelist\n",
    "Cities= [('A','B'), ('A','C'), ('B','C'),('B','D'),('C','D')]\n",
    "Routes = tuplelist(Cities)\n",
    "print(Routes.select('A','*'))"
   ]
  },
  {
   "cell_type": "code",
   "execution_count": 8,
   "metadata": {},
   "outputs": [],
   "source": [
    "###########################################################################\n",
    "#   This example reads a model from a file, sets up a callback that       #\n",
    "#   monitors optimization progress and implements a custom                #\n",
    "#   termination strategy, and outputs progress information to the         #\n",
    "#   screen and to a log file.                                             #\n",
    "#                                                                         # \n",
    "#   The termination strategy implemented in this callback stops the       # \n",
    "#   optimization of a MIP model once at least one of the following two    #\n",
    "#   conditions have been satisfied:                                       #\n",
    "#     1) The optimality gap is less than 10%                              #\n",
    "#     2) At least 10000 nodes have been explored, and an integer feasible #\n",
    "#        solution has been found.                                         #\n",
    "#   Note that termination is normally handled through Gurobi parameters   #\n",
    "#   (MIPGap, NodeLimit, etc.).  You should only use a callback for        #\n",
    "#   termination if the available parameters don't capture your desired    # \n",
    "#   termination criterion.                                                #\n",
    "###########################################################################\n",
    "import sys\n",
    "import gurobipy as gp\n",
    "from gurobipy import GRB\n",
    "\n",
    "\n",
    "# Define my callback function\n",
    "\n",
    "def mycallback(model, where):\n",
    "    if where == GRB.Callback.POLLING:\n",
    "        # Ignore polling callback\n",
    "        pass\n",
    "    elif where == GRB.Callback.PRESOLVE:\n",
    "        # Presolve callback\n",
    "        cdels = model.cbGet(GRB.Callback.PRE_COLDEL)\n",
    "        rdels = model.cbGet(GRB.Callback.PRE_ROWDEL)\n",
    "        if cdels or rdels:\n",
    "            print('%d columns and %d rows are removed' % (cdels, rdels))\n",
    "    elif where == GRB.Callback.SIMPLEX:\n",
    "        # Simplex callback\n",
    "        itcnt = model.cbGet(GRB.Callback.SPX_ITRCNT)\n",
    "        if itcnt - model._lastiter >= 100:\n",
    "            model._lastiter = itcnt\n",
    "            obj = model.cbGet(GRB.Callback.SPX_OBJVAL)\n",
    "            ispert = model.cbGet(GRB.Callback.SPX_ISPERT)\n",
    "            pinf = model.cbGet(GRB.Callback.SPX_PRIMINF)\n",
    "            dinf = model.cbGet(GRB.Callback.SPX_DUALINF)\n",
    "            if ispert == 0:\n",
    "                ch = ' '\n",
    "            elif ispert == 1:\n",
    "                ch = 'S'\n",
    "            else:\n",
    "                ch = 'P'\n",
    "            print('%d %g%s %g %g' % (int(itcnt), obj, ch, pinf, dinf))\n",
    "    elif where == GRB.Callback.MIP:\n",
    "        # General MIP callback\n",
    "        nodecnt = model.cbGet(GRB.Callback.MIP_NODCNT)\n",
    "        objbst = model.cbGet(GRB.Callback.MIP_OBJBST)\n",
    "        objbnd = model.cbGet(GRB.Callback.MIP_OBJBND)\n",
    "        solcnt = model.cbGet(GRB.Callback.MIP_SOLCNT)\n",
    "        if nodecnt - model._lastnode >= 100:\n",
    "            model._lastnode = nodecnt\n",
    "            actnodes = model.cbGet(GRB.Callback.MIP_NODLFT)\n",
    "            itcnt = model.cbGet(GRB.Callback.MIP_ITRCNT)\n",
    "            cutcnt = model.cbGet(GRB.Callback.MIP_CUTCNT)\n",
    "            print('%d %d %d %g %g %d %d' % (nodecnt, actnodes,\n",
    "                  itcnt, objbst, objbnd, solcnt, cutcnt))\n",
    "        if abs(objbst - objbnd) < 0.1 * (1.0 + abs(objbst)):\n",
    "            print('Stop early - 10% gap achieved')\n",
    "            model.terminate()\n",
    "        if nodecnt >= 10000 and solcnt:\n",
    "            print('Stop early - 10000 nodes explored')\n",
    "            model.terminate()\n",
    "    elif where == GRB.Callback.MIPSOL:\n",
    "        # MIP solution callback\n",
    "        nodecnt = model.cbGet(GRB.Callback.MIPSOL_NODCNT)\n",
    "        obj = model.cbGet(GRB.Callback.MIPSOL_OBJ)\n",
    "        solcnt = model.cbGet(GRB.Callback.MIPSOL_SOLCNT)\n",
    "        x = model.cbGetSolution(model._vars)\n",
    "        print('**** New solution at node %d, obj %g, sol %d, '\n",
    "              'x[0] = %g ****' % (nodecnt, obj, solcnt, x[0]))\n",
    "    elif where == GRB.Callback.MIPNODE:\n",
    "        # MIP node callback\n",
    "        print('**** New node ****')\n",
    "        if model.cbGet(GRB.Callback.MIPNODE_STATUS) == GRB.OPTIMAL:\n",
    "            x = model.cbGetNodeRel(model._vars)\n",
    "            model.cbSetSolution(model.getVars(), x)\n",
    "    elif where == GRB.Callback.BARRIER:\n",
    "        # Barrier callback\n",
    "        itcnt = model.cbGet(GRB.Callback.BARRIER_ITRCNT)\n",
    "        primobj = model.cbGet(GRB.Callback.BARRIER_PRIMOBJ)\n",
    "        dualobj = model.cbGet(GRB.Callback.BARRIER_DUALOBJ)\n",
    "        priminf = model.cbGet(GRB.Callback.BARRIER_PRIMINF)\n",
    "        dualinf = model.cbGet(GRB.Callback.BARRIER_DUALINF)\n",
    "        cmpl = model.cbGet(GRB.Callback.BARRIER_COMPL)\n",
    "        print('%d %g %g %g %g %g' % (itcnt, primobj, dualobj,\n",
    "              priminf, dualinf, cmpl))\n",
    "    elif where == GRB.Callback.MESSAGE:\n",
    "        # Message callback\n",
    "        msg = model.cbGet(GRB.Callback.MSG_STRING)\n",
    "        model._logfile.write(msg)\n",
    "\n",
    "\n"
   ]
  }
 ],
 "metadata": {
  "kernelspec": {
   "display_name": "Python 3 (ipykernel)",
   "language": "python",
   "name": "python3"
  },
  "language_info": {
   "codemirror_mode": {
    "name": "ipython",
    "version": 3
   },
   "file_extension": ".py",
   "mimetype": "text/x-python",
   "name": "python",
   "nbconvert_exporter": "python",
   "pygments_lexer": "ipython3",
   "version": "3.8.3"
  }
 },
 "nbformat": 4,
 "nbformat_minor": 4
}
